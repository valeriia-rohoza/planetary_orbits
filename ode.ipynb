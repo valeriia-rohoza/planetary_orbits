{
 "cells": [
  {
   "cell_type": "markdown",
   "metadata": {},
   "source": [
    "# The Stability of the Planetary Orbits"
   ]
  },
  {
   "cell_type": "markdown",
   "metadata": {},
   "source": [
    "## Call the C library ODE solver"
   ]
  },
  {
   "cell_type": "code",
   "execution_count": 77,
   "metadata": {},
   "outputs": [],
   "source": [
    "import ctypes\n",
    "from ctypes import *\n",
    "from numpy.ctypeslib import ndpointer\n",
    "import numpy as np\n",
    "import matplotlib.pyplot as plt\n",
    "import numba\n",
    "import csv\n",
    "import random\n",
    "\n",
    "import deep_nn\n",
    "importlib.reload(deep_nn)"
   ]
  },
  {
   "cell_type": "code",
   "execution_count": 33,
   "metadata": {},
   "outputs": [],
   "source": [
    "# set formatting of the plots"
   ]
  },
  {
   "cell_type": "code",
   "execution_count": 6,
   "metadata": {},
   "outputs": [],
   "source": [
    "!gcc -shared -O2 ode.c -o libode.so"
   ]
  },
  {
   "cell_type": "code",
   "execution_count": 7,
   "metadata": {},
   "outputs": [],
   "source": [
    "#load our C library, it's as simple as that!\n",
    "lib = ctypes.CDLL(\"libode.so\")\n",
    "#rename C-based solve_ode() function into solve_ode_c()\n",
    "solve_ode_c = lib.solve_ode\n",
    "#in order to call a C function, we need to define:\n",
    "# * the return data type\n",
    "solve_ode_c.restype = None\n",
    "# * function argument types\n",
    "solve_ode_c.argtypes = [\n",
    "    ndpointer(ctypes.c_double), \n",
    "    ndpointer(ctypes.c_double),\n",
    "    ctypes.c_double,\n",
    "    ctypes.c_int,\n",
    "    ctypes.c_int,\n",
    "    ctypes.c_int,\n",
    "    ndpointer(ctypes.c_double),\n",
    "    ctypes.CFUNCTYPE(None,c_double, POINTER(c_double), POINTER(c_double), POINTER(c_double))\n",
    "]\n",
    "\n",
    "#In order to \"hide\" from the end user the C \"guts\" of the library, \n",
    "#let's create a python \"wrapper function\" for our ODE solver\n",
    "def solve_ode(fun, t_span, nsteps, z0, method = \"RK4\", args = None ):\n",
    "    \"\"\"\n",
    "    Takes in the right-hand side function fun, the time range t_span, \n",
    "    the number of time steps nsteps, and the initial condition vector z0.\n",
    "    \n",
    "    Keyword arguments: \n",
    "    method -- one of \"Euler\", \"Euler-Cromer\", \"RK2\", \"RK4\", etc ODE solution methods\n",
    "    args   -- arguments to pass to the right-hand side function fun()\n",
    "    \n",
    "    Returns: the pair t,z of time and solution vector.\n",
    "    \"\"\"\n",
    "    t_span = np.asarray(t_span,dtype=np.double)\n",
    "    t = np.linspace(t_span[0],t_span[1],nsteps+1,dtype=np.double)\n",
    "    nvar = len(z0)\n",
    "    z = np.zeros([nsteps+1,nvar],dtype=np.double,order='C')\n",
    "    #assign initial conditions\n",
    "    z0 = np.asarray(z0,dtype=np.double)\n",
    "    z[0,:] = z0\n",
    "    #check if the supplied function is numba-based CFunc\n",
    "    if(\"ctypes\" in dir(fun)):\n",
    "        #numba-based, we can use it right away\n",
    "        fun_c = fun.ctypes\n",
    "    else:\n",
    "        #otherwise, we need to wrap the python function into CFUNCTYPE\n",
    "        FUNCTYPE = CFUNCTYPE(None,c_double, POINTER(c_double), POINTER(c_double), POINTER(c_double))\n",
    "        #create a C-compatible function pointer\n",
    "        fun_c = FUNCTYPE(fun)\n",
    "    #compute preliminaries to call the C function library\n",
    "    dt = (t_span[1]-t_span[0])/nsteps\n",
    "    if args is not None: args = np.asarray(args,dtype=np.double)\n",
    "    if method in [\"RK2\", \"RKO2\"]:\n",
    "        order = 2\n",
    "    elif method in [\"Euler\"]:\n",
    "        order = 1\n",
    "    elif method in [\"Euler-Cromer\"]:\n",
    "        order = -1\n",
    "    elif method in [\"Velocity Verlet\"]:\n",
    "        order = 13\n",
    "    elif method in [\"Leapfrog\"]:\n",
    "        order = 5\n",
    "    elif method in [\"RK4\"]:\n",
    "        order = 4\n",
    "    elif method in [\"Yoshida4\"]:\n",
    "        order = 6\n",
    "    else:\n",
    "        #default\n",
    "        order = 13\n",
    "    \n",
    "    #make a call to the C library function\n",
    "    solve_ode_c(t,z,dt,nsteps,nvar,order,args,fun_c)\n",
    "\n",
    "    return t,z"
   ]
  },
  {
   "cell_type": "markdown",
   "metadata": {},
   "source": [
    "## Define the right-hand side of the equation of motion: $\\frac{d\\vec z}{dt} = \\vec f(t,\\vec z)$"
   ]
  },
  {
   "cell_type": "markdown",
   "metadata": {},
   "source": [
    "### Mercury, Venus, Earth, Mars, Jupiter, Saturn, and the Sun"
   ]
  },
  {
   "cell_type": "code",
   "execution_count": 23,
   "metadata": {},
   "outputs": [],
   "source": [
    "#This has been updated to use numba, which compiles the below function on the fly\n",
    "#and substantially speeds up the ODE integration\n",
    "from numba import cfunc, types\n",
    "\n",
    "c_sig = types.void(types.double,\n",
    "                   types.CPointer(types.double),\n",
    "                   types.CPointer(types.double),\n",
    "                   types.CPointer(types.double))\n",
    "\n",
    "@cfunc(c_sig)\n",
    "def funcpl(t,z,params,dzdt):\n",
    "    \"\"\"\n",
    "    Takes the time and solution vector z, as well as parameters in the params array, \n",
    "    and populates the dzdt array with the values of the right-hand side function f(t,z).\n",
    "    \n",
    "    This function returns the right-hand side f(t,z) for a planet subject to graviational\n",
    "    force due to the center body with GM_S = 4 pi^2\n",
    "    \n",
    "    The system:\n",
    "    - the Sun\n",
    "    - Mercury with an elliptic orbit\n",
    "    - Venus, Earth, Mars, Jupiter, Saturn with circular orbits (radius = semi-major axis)\n",
    "    \n",
    "    Note: Venus is rotating in the opposite direction\n",
    "    \n",
    "    The order:\n",
    "    0 Venus, 1 Earth, 2 Mars, 3 Jupiter, 4 Saturn\n",
    "    \n",
    "    params[i*3    ] = Mass of the planet in solar masses\n",
    "    params[i*3 + 1] = Semi-major axis of the orbit in AU\n",
    "    params[i*3 + 2] = Period of rotation in years\n",
    "    \n",
    "    Returns: nothing\n",
    "    \"\"\"\n",
    "    xm  = z[0]\n",
    "    Vmx = z[1]\n",
    "    ym  = z[2]\n",
    "    Vmy = z[3]\n",
    "    \n",
    "    rm = np.sqrt(xm**2 + ym**2)\n",
    "    \n",
    "    dzdt[0] = Vmx\n",
    "    dzdt[1] = -4. * (np.pi ** 2) * xm / (rm ** 3)\n",
    "    dzdt[2] = Vmy\n",
    "    dzdt[3] = -4. * (np.pi ** 2) * ym / (rm ** 3)\n",
    "    \n",
    "    # compute coordinates of planets other than Mercury\n",
    "    for plan in range(0,5):\n",
    "        x_pl = params[plan*3 + 1] * np.cos(2. * np.pi * t / params[plan*3 + 2])\n",
    "        y_pl = params[plan*3 + 1] * np.sin(2. * np.pi * t / params[plan*3 + 2])\n",
    "        if plan == 0:\n",
    "            y_pl *= -1\n",
    "\n",
    "        r_mpl = np.sqrt( (xm - x_pl) ** 2 + (ym - y_pl) ** 2)\n",
    "        \n",
    "        dzdt[1] += - 4. * (np.pi ** 2) * params[plan*3] * (xm - x_pl) / (r_mpl ** 3)\n",
    "        dzdt[3] += - 4. * (np.pi ** 2) * params[plan*3] * (ym - y_pl) / (r_mpl ** 3)"
   ]
  },
  {
   "cell_type": "markdown",
   "metadata": {},
   "source": [
    "## Transform coordinates"
   ]
  },
  {
   "cell_type": "code",
   "execution_count": 10,
   "metadata": {},
   "outputs": [],
   "source": [
    "def ellipse_to_xy(a,e,theta,thetaE):\n",
    "    \"\"\"\n",
    "    Takes the particle's position relative to an ellipse and parameters of the ellipse a,e,theta,theta_E.\n",
    "    This function returns the Cartesian variables x,V_x,y,V_y.\n",
    "    \n",
    "    Returns x,Vx,y,Vy\n",
    "    \"\"\"\n",
    "\n",
    "    # radius using angle theta\n",
    "    r = a * (1 - e**2) / (1 + e * np.cos(theta - thetaE))\n",
    "    \n",
    "    # angular momentum per mass\n",
    "    h = 2. * np.pi * np.sqrt(np.abs(a * (1. - e **2)))\n",
    "    \n",
    "    # energy per mass\n",
    "    u = - 2. * (np.pi ** 2) / a \n",
    "    \n",
    "    # speed of the particle\n",
    "    V = np.sqrt(np.abs(2. * u + 8. * (np.pi ** 2) / r)) \n",
    "    \n",
    "    # let Vx = V cos alpha, Vy = V sin alpha\n",
    "    # buff = alpha - theta\n",
    "    # when the radial velocity is positive (the planet goes from its periapse to apoapse = sin(theta-theta_E) > 0)\n",
    "    # alpha - theta should be less then pi/2\n",
    "    buff_sin = np.array(h / (r * V))\n",
    "    \n",
    "    # to make sure that arcsin takes values less than 1 and greater than -1\n",
    "    buff_sin[buff_sin < -1.] = -1.\n",
    "    buff_sin[buff_sin > 1.] = 1.\n",
    "    \n",
    "    buff = np.pi*(np.sin(theta - thetaE) < 0.) + np.power(-1., np.sin(theta - thetaE) < 0.) * np.arcsin(buff_sin)\n",
    "    alpha = theta + buff\n",
    "        \n",
    "    # x and y\n",
    "    x = r * np.cos(theta)\n",
    "    y = r * np.sin(theta)\n",
    "    \n",
    "    # Vx and Vy\n",
    "    Vx = V * np.cos(alpha)\n",
    "    Vy = V * np.sin(alpha)\n",
    "    \n",
    "    return x,Vx,y,Vy"
   ]
  },
  {
   "cell_type": "code",
   "execution_count": 11,
   "metadata": {},
   "outputs": [],
   "source": [
    "def xy_to_ellipse(x,Vx,y,Vy):\n",
    "    \"\"\"\n",
    "    Takes the Cartesian variables.\n",
    "    This function returns the particle's position relative to an ellipse and parameters of the ellipse.\n",
    "    \n",
    "    Returns a,e,theta,theta_E\n",
    "    \"\"\"\n",
    "    # radius using x and y\n",
    "    r = np.sqrt(x ** 2 + y ** 2)\n",
    "    \n",
    "    # speed of the particle\n",
    "    V = np.sqrt(Vx ** 2 + Vy ** 2)\n",
    "    \n",
    "    # angular momentum per mass\n",
    "    h = x * Vy - y * Vx\n",
    "    \n",
    "    # energy per mass\n",
    "    u = (V ** 2) / 2. - 4. * (np.pi ** 2) / r\n",
    "    \n",
    "    # semi-major axis\n",
    "    a = -2. * ((np.pi) ** 2) / u\n",
    "    \n",
    "    # eccentricity of the elliptical orbit, added absolute value\n",
    "    e = np.sqrt(np.abs(1 - ((h / (2. * np.pi)) ** 2 )/ a))\n",
    "    \n",
    "    # theta\n",
    "    theta = np.arctan2(y,x)\n",
    "    \n",
    "    # theta_E, compute e*cos(theta - thetaE) first\n",
    "    buff = a * (1. - e ** 2) / r - 1.\n",
    "    \n",
    "    # divide buff/e and output 0 if it is a circular orbit\n",
    "    buff_cos = np.divide(buff, e, out=np.zeros_like(buff), where=(e > np.power(10.,-5.)))\n",
    "    \n",
    "    #to make sure that arccos takes values less than 1 and greater than -1\n",
    "    buff_cos[buff_cos < -1.] = -1.\n",
    "    buff_cos[buff_cos > 1.] = 1.\n",
    "    \n",
    "    delta = np.arccos(buff_cos)\n",
    "    \n",
    "    # change the sign if the radial velocity is negative\n",
    "    delta *= np.power(-1.,(x * Vx + y * Vy) < 0.)\n",
    "    thetaE = theta - delta\n",
    "    \n",
    "    # set thetaE to 0 if it is a circular orbit\n",
    "    thetaE *= (e > np.power(10.,-5.))\n",
    "    \n",
    "    # fix to add 2pi or subtract 2pi if thetaE isn't between -pi and pi\n",
    "    thetaE -= (thetaE > np.pi) * 2 * np.pi\n",
    "    thetaE += (thetaE < -np.pi) * 2 * np.pi\n",
    "    \n",
    "    return a,e,theta,thetaE"
   ]
  },
  {
   "cell_type": "markdown",
   "metadata": {},
   "source": [
    "## Run the simulation"
   ]
  },
  {
   "cell_type": "markdown",
   "metadata": {},
   "source": [
    "### Initial conditions:\n",
    "##### Mercury  $a_m=0.39 AU, \\ e_m=0.206, \\ \\theta_E = -3\\pi/4, \\ \\theta_m=\\theta_E$\n",
    "##### Venus $M_V = 0.000002447M_S, \\ a_V = 0.72 AU, \\ T_V = 0.615 years,\\ \\theta_V = 0$\n",
    "##### Earth $M_E = M_S/333030, \\ a_E = 1 AU, \\ T_E = 1 years,\\ \\theta_E = 0$\n",
    "##### Mars $M_M = 0.0000003213M_S, \\ a_M = 1.52 AU, \\ T_M = 1.88 years,\\ \\theta_M = 0$\n",
    "##### Jupiter $M_J = M_S/1048, \\ a_J = 5.20 AU, \\ T_J = 11.86 years,\\ \\theta_J = 0$\n",
    "##### Saturn $M_S = 0.0002857M_S, \\ a_S = 9.58 AU, \\ T_J = 29.46 years,\\ \\theta_J = 0$"
   ]
  },
  {
   "cell_type": "code",
   "execution_count": 63,
   "metadata": {},
   "outputs": [],
   "source": [
    "# compute initial conditions of Mercury in cartesian coordinates\n",
    "am = 0.39\n",
    "em = 0.206\n",
    "thetaEm = -3 * np.pi / 4.\n",
    "thetam = thetaEm\n",
    "\n",
    "init_cart = np.array(ellipse_to_xy(am,em,thetam,thetaEm))\n",
    "planets = np.array([0.000002447, 0.72, 0.615,\n",
    "                    1./333030., 1., 1.,\n",
    "                    0.0000003213, 1.52, 1.88,\n",
    "                    1./1048., 5.20, 11.86,\n",
    "                    0.0002857, 9.58, 29.46])"
   ]
  },
  {
   "cell_type": "code",
   "execution_count": 64,
   "metadata": {},
   "outputs": [],
   "source": [
    "# run the simulation\n",
    "dt = 0.001\n",
    "time_f = 10000.\n",
    "nsteps = int(time_f/dt)\n",
    "t,zm = solve_ode(funcpl,[0.,time_f], nsteps, init_cart, args=planets, method=\"Yoshida4\")\n",
    "xm,Vmx,ym,Vmy = zm.T\n",
    "\n",
    "# compute the parameters of the ellipse\n",
    "a,e,theta,thetaE = xy_to_ellipse(xm,Vmx,ym,Vmy)"
   ]
  },
  {
   "cell_type": "code",
   "execution_count": 65,
   "metadata": {},
   "outputs": [
    {
     "data": {
      "text/plain": [
       "(-10.0, 10.0)"
      ]
     },
     "execution_count": 65,
     "metadata": {},
     "output_type": "execute_result"
    },
    {
     "data": {
      "image/png": "[encoded data removed]",
      "text/plain": [
       "<Figure size 720x720 with 1 Axes>"
      ]
     },
     "metadata": {
      "needs_background": "light"
     },
     "output_type": "display_data"
    }
   ],
   "source": [
    "plt.figure(figsize=(10,10))\n",
    "plt.title(r\"The integrated orbit of Mercury\")\n",
    "plt.ylabel(r\"$y$\")\n",
    "plt.xlabel(r\"$x$\")\n",
    "\n",
    "plt.plot(xm,ym)\n",
    "#plt.legend()\n",
    "plt.grid()\n",
    "\n",
    "axes = plt.gca()\n",
    "axes.set_xlim([-10,10])\n",
    "axes.set_ylim([-10,10])\n",
    "\n",
    "#plt.savefig(\"mercury_planets.png\")"
   ]
  },
  {
   "cell_type": "markdown",
   "metadata": {},
   "source": [
    "## Labeling the data\n",
    "##### Decide whether Mercury is still on the orbit"
   ]
  },
  {
   "cell_type": "code",
   "execution_count": 74,
   "metadata": {},
   "outputs": [
    {
     "data": {
      "text/plain": [
       "1"
      ]
     },
     "execution_count": 74,
     "metadata": {},
     "output_type": "execute_result"
    }
   ],
   "source": [
    "int(np.count_nonzero((a>10))==0)"
   ]
  },
  {
   "cell_type": "markdown",
   "metadata": {},
   "source": [
    "## Running the simulations with small pertubations\n",
    "##### Modify the initial conditions of Mercury"
   ]
  },
  {
   "cell_type": "code",
   "execution_count": 78,
   "metadata": {},
   "outputs": [],
   "source": [
    "thetaEm = -3 * np.pi / 4.\n",
    "thetam = thetaEm\n",
    "init_cart = np.array(ellipse_to_xy(am,em,thetam,thetaEm))\n",
    "planets = np.array([0.000002447, 0.72, 0.615,\n",
    "                    1./333030., 1., 1.,\n",
    "                    0.0000003213, 1.52, 1.88,\n",
    "                    1./1048., 5.20, 11.86,\n",
    "                    0.0002857, 9.58, 29.46])\n",
    "\n",
    "dt = 0.001\n",
    "time_f = 10000.\n",
    "nsteps = int(time_f/dt)\n",
    "\n",
    "for iteration in range(0,1000):\n",
    "    # add small pertubations to Mercury\n",
    "    am = random.gauss(0.39, 0.01)\n",
    "    em = random.gauss(0.206, 0.001)\n",
    "    init_cart = np.array(ellipse_to_xy(am,em,thetam,thetaEm))\n",
    "    \n",
    "    # run the simulation\n",
    "    t,zm = solve_ode(funcpl,[0.,time_f], nsteps, init_cart, args=planets, method=\"Yoshida4\")\n",
    "    xm,Vmx,ym,Vmy = zm.T\n",
    "\n",
    "    # compute the parameters of the ellipse\n",
    "    a,e,theta,thetaE = xy_to_ellipse(xm,Vmx,ym,Vmy)\n",
    "    \n",
    "    # 1 if stable, 0 if unstable\n",
    "    stability = int(np.count_nonzero((a>10))==0)\n",
    "    \n",
    "    with open('train.csv', mode='a') as file:\n",
    "        writer = csv.writer(file, delimiter=',', quotechar='\"', quoting=csv.QUOTE_MINIMAL)\n",
    "\n",
    "        data = [am, em, stability]\n",
    "        writer.writerow(data)"
   ]
  },
  {
   "cell_type": "markdown",
   "metadata": {},
   "source": [
    "## Predicting the stability of the system"
   ]
  },
  {
   "cell_type": "code",
   "execution_count": null,
   "metadata": {},
   "outputs": [],
   "source": []
  }
 ],
 "metadata": {
  "kernelspec": {
   "display_name": "Python 3",
   "language": "python",
   "name": "python3"
  },
  "language_info": {
   "codemirror_mode": {
    "name": "ipython",
    "version": 3
   },
   "file_extension": ".py",
   "mimetype": "text/x-python",
   "name": "python",
   "nbconvert_exporter": "python",
   "pygments_lexer": "ipython3",
   "version": "3.8.5"
  }
 },
 "nbformat": 4,
 "nbformat_minor": 2
}
